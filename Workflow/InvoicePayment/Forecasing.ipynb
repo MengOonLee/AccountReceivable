{
 "cells": [
  {
   "cell_type": "markdown",
   "id": "1d0aae1f-d87c-4b38-8796-eb388cf64dd3",
   "metadata": {},
   "source": [
    "# Invoice Payment Forecasting\n",
    "\n",
    "Accounts Receivables (AR) is an important aspect of businesses, it is a credit extended by the company to the client that require payments due within a time period. With B2B transactions increasing in volume and complexity, poor management of AR can lead to to unnecessary expenses and cash flow problems.\n",
    "\n",
    "Invoice payment forecasting can be used to optimize collection strategies that allows businesses to predict and plan for future customer payments. By analyzing customer payment history, businesses can forecast their future accounts receivable balance and plan accordingly. By identifying invoices that are likely to be paid late, customers who are likely to have large amounts of overdue receivables, which in turn can lead to better visibility into future cash flow."
   ]
  },
  {
   "cell_type": "code",
   "execution_count": null,
   "id": "e5b639ba-1eb4-4ad0-a4ae-e421bc5ca205",
   "metadata": {},
   "outputs": [],
   "source": [
    "import pandas as pd\n",
    "import tensorflow as tf\n",
    "import torch"
   ]
  },
  {
   "cell_type": "code",
   "execution_count": null,
   "id": "067868ae-fb1f-4600-afc2-470601c6ce52",
   "metadata": {},
   "outputs": [],
   "source": []
  }
 ],
 "metadata": {
  "kernelspec": {
   "display_name": "Python 3 (ipykernel)",
   "language": "python",
   "name": "python3"
  },
  "language_info": {
   "codemirror_mode": {
    "name": "ipython",
    "version": 3
   },
   "file_extension": ".py",
   "mimetype": "text/x-python",
   "name": "python",
   "nbconvert_exporter": "python",
   "pygments_lexer": "ipython3",
   "version": "3.8.10"
  }
 },
 "nbformat": 4,
 "nbformat_minor": 5
}
