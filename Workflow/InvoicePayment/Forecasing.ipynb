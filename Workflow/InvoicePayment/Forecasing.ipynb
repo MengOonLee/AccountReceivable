{
 "cells": [
  {
   "cell_type": "markdown",
   "id": "1d0aae1f-d87c-4b38-8796-eb388cf64dd3",
   "metadata": {},
   "source": [
    "# Invoice Payment Forecasting\n",
    "\n",
    "Accounts Receivables (AR) is an important aspect of businesses, it is a credit extended by the company to the client that require payments due within a time period. With B2B transactions increasing in volume and complexity, poor management of AR can lead to to unnecessary expenses and cash flow problems.\n",
    "\n",
    "Invoice payment forecasting can be used to optimize collection strategies that allows businesses to predict and plan for future customer payments. By analyzing customer payment history, businesses can forecast their future accounts receivable balance and plan accordingly. By identifying invoices that are likely to be paid late, customers who are likely to have large amounts of overdue receivables, which in turn can lead to better visibility into future cash flow.\n",
    "\n",
    "The invoices dataset contains the past payment information and behaviour of various buyers.\n",
    "\n",
    "1. Categorize the invoice into different aging buckets. The different buckets will be:\n",
    "   * \\< 1 month\n",
    "   * 1 month - 2 months\n",
    "   * 2 month - 3 months\n",
    "   * \\> 3 months\n",
    "  \n",
    "2. Machine Learning model will predict the payment of an invoice falls into the buckets."
   ]
  },
  {
   "cell_type": "code",
   "execution_count": 4,
   "id": "ac69508b-b90e-4b91-81ea-f5c139eb776b",
   "metadata": {},
   "outputs": [
    {
     "name": "stdout",
     "output_type": "stream",
     "text": [
      "No broken requirements found.\n"
     ]
    }
   ],
   "source": [
    "%%bash\n",
    "pip install --no-cache-dir -qU pip\n",
    "pip install --no-cache-dir -qU xgboost\n",
    "pip check"
   ]
  },
  {
   "cell_type": "markdown",
   "id": "97dee202-d541-47fd-ae5b-96db94d5067b",
   "metadata": {},
   "source": [
    "## Preprocessing"
   ]
  },
  {
   "cell_type": "code",
   "execution_count": 3,
   "id": "e5b639ba-1eb4-4ad0-a4ae-e421bc5ca205",
   "metadata": {
    "scrolled": true
   },
   "outputs": [
    {
     "name": "stdout",
     "output_type": "stream",
     "text": [
      "<class 'pandas.core.frame.DataFrame'>\n",
      "RangeIndex: 50000 entries, 0 to 49999\n",
      "Data columns (total 19 columns):\n",
      " #   Column                  Non-Null Count  Dtype  \n",
      "---  ------                  --------------  -----  \n",
      " 0   business_code           50000 non-null  object \n",
      " 1   cust_number             50000 non-null  object \n",
      " 2   name_customer           50000 non-null  object \n",
      " 3   clear_date              45181 non-null  object \n",
      " 4   buisness_year           50000 non-null  float64\n",
      " 5   doc_id                  50000 non-null  float64\n",
      " 6   posting_date            50000 non-null  object \n",
      " 7   document_create_date    50000 non-null  int64  \n",
      " 8   document_create_date.1  50000 non-null  int64  \n",
      " 9   due_in_date             50000 non-null  float64\n",
      " 10  invoice_currency        50000 non-null  object \n",
      " 11  document type           50000 non-null  object \n",
      " 12  posting_id              50000 non-null  float64\n",
      " 13  area_business           0 non-null      float64\n",
      " 14  total_open_amount       50000 non-null  float64\n",
      " 15  baseline_create_date    50000 non-null  float64\n",
      " 16  cust_payment_terms      50000 non-null  object \n",
      " 17  invoice_id              49997 non-null  float64\n",
      " 18  isOpen                  50000 non-null  int64  \n",
      "dtypes: float64(8), int64(3), object(8)\n",
      "memory usage: 7.2+ MB\n"
     ]
    }
   ],
   "source": [
    "import os\n",
    "import pandas as pd\n",
    "\n",
    "input_dir = '../../Data/Input/'\n",
    "input_payment = 'Payment.csv'\n",
    "df_payment = pd.read_csv(os.path.join(input_dir, input_payment))\n",
    "\n",
    "df_payment.info()"
   ]
  },
  {
   "cell_type": "code",
   "execution_count": 5,
   "id": "067868ae-fb1f-4600-afc2-470601c6ce52",
   "metadata": {},
   "outputs": [],
   "source": [
    "import xgboost as xgb"
   ]
  },
  {
   "cell_type": "code",
   "execution_count": null,
   "id": "893749d8-10e1-4132-9998-b45a098a6cc6",
   "metadata": {},
   "outputs": [],
   "source": []
  }
 ],
 "metadata": {
  "kernelspec": {
   "display_name": "Python 3 (ipykernel)",
   "language": "python",
   "name": "python3"
  },
  "language_info": {
   "codemirror_mode": {
    "name": "ipython",
    "version": 3
   },
   "file_extension": ".py",
   "mimetype": "text/x-python",
   "name": "python",
   "nbconvert_exporter": "python",
   "pygments_lexer": "ipython3",
   "version": "3.8.10"
  }
 },
 "nbformat": 4,
 "nbformat_minor": 5
}
