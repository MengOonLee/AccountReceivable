{
 "cells": [
  {
   "cell_type": "code",
   "execution_count": 1,
   "metadata": {},
   "outputs": [
    {
     "name": "stdout",
     "output_type": "stream",
     "text": [
      "No broken requirements found.\n"
     ]
    }
   ],
   "source": [
    "%%bash\n",
    "pip install --no-cache-dir -qU pip\n",
    "pip install --no-cache-dir -qU jsonlines\n",
    "pip check"
   ]
  },
  {
   "cell_type": "code",
   "execution_count": 2,
   "metadata": {
    "height": 302
   },
   "outputs": [
    {
     "name": "stdout",
     "output_type": "stream",
     "text": [
      "     customerID InvoiceDate InvoiceAmount DaysToSettle\n",
      "401  2621-XCLEH  2012-01-13        $80.99      61 days\n",
      "402  2621-XCLEH  2012-02-21        $79.51      46 days\n",
      "403  2621-XCLEH  2012-02-22        $69.80      43 days\n",
      "404  2621-XCLEH  2012-03-02        $67.51      57 days\n",
      "405  2621-XCLEH  2012-03-23        $89.05      52 days\n",
      "406  2621-XCLEH  2012-04-16        $74.06      44 days\n",
      "407  2621-XCLEH  2012-06-27        $69.42      60 days\n",
      "408  2621-XCLEH  2012-11-18        $86.39      75 days\n",
      "409  2621-XCLEH  2013-03-01        $58.96      55 days\n",
      "410  2621-XCLEH  2013-03-31        $70.93      55 days\n",
      "411  2621-XCLEH  2013-04-27        $65.76      37 days\n",
      "412  2621-XCLEH  2013-06-18        $37.49      29 days\n",
      "413  2621-XCLEH  2013-06-24        $90.62      35 days\n",
      "414  2621-XCLEH  2013-07-16        $78.08      48 days\n",
      "415  2621-XCLEH  2013-07-28        $92.17      46 days\n"
     ]
    }
   ],
   "source": [
    "import pandas as pd\n",
    "\n",
    "df_invoice = pd.read_csv('WA_Fn-UseC_-Accounts-Receivable.csv')\n",
    "df_invoice['InvoiceDate'] = pd.to_datetime(df_invoice['InvoiceDate'], format='%m/%d/%Y')\\\n",
    "    .dt.date\n",
    "df_invoice['InvoiceAmount'] = df_invoice['InvoiceAmount']\\\n",
    "    .apply(lambda x: \"${:,.2f}\".format(x))\n",
    "df_invoice['DaysToSettle'] = df_invoice['DaysToSettle'].apply(lambda x: f\"{x} days\")\n",
    "\n",
    "df_invoice.drop(columns=['countryCode', 'PaperlessDate', 'invoiceNumber', 'DueDate', \n",
    "    'Disputed', 'SettledDate', 'PaperlessBill', 'DaysLate'], inplace=True)\n",
    "df_invoice.sort_values(by=['customerID', 'InvoiceDate'], inplace=True)\n",
    "df_invoice.reset_index(inplace=True, drop=True)\n",
    "\n",
    "print(df_invoice[df_invoice['customerID']=='2621-XCLEH'])"
   ]
  },
  {
   "cell_type": "code",
   "execution_count": 3,
   "metadata": {
    "scrolled": true
   },
   "outputs": [],
   "source": [
    "import pandas as pd\n",
    "import jsonlines\n",
    "\n",
    "def create_train_prompt(x):\n",
    "    d = {}\n",
    "    d['instruction'] = f\"\"\"\\\n",
    "Given the dataset delimited by the triple backticks, forecast number of days client \\\n",
    "{x['customerID'][-2:-1].values[0]} will take for the payment of an invoice dated \\\n",
    "{x['InvoiceDate'][-2:-1].values[0]} with an amount {x['InvoiceAmount'][-2:-1].values[0]} \\\n",
    "to be settled. Return the response in JSON format, containing four keys: \\\n",
    "'customerID', 'InvoiceDate', 'InvoiceAmount' and 'DaysToSettle'. \\\n",
    "Return only the forecast, not the Python code.\n",
    "\n",
    "```\n",
    "{x[:-2].to_string(index=False)}\n",
    "```\\\n",
    "\"\"\"\n",
    "    d['response'] = {\n",
    "        \"customerID\": f\"{x['customerID'][-2:-1].values[0]}\",\n",
    "        \"InvoiceDate\": f\"{x['InvoiceDate'][-2:-1].values[0]}\",\n",
    "        \"InvoiceAmount\": f\"{x['InvoiceAmount'][-2:-1].values[0]}\",\n",
    "        \"DaysToSettle\": f\"{x['DaysToSettle'][-2:-1].values[0]}\"\n",
    "    }\n",
    "\n",
    "    return pd.Series(d, index=['instruction', 'response'])\n",
    "\n",
    "df_train_prompt = df_invoice.copy()\\\n",
    "    .sort_values(by=['customerID', 'InvoiceDate'])\\\n",
    "    .groupby('customerID')\\\n",
    "    .apply(create_train_prompt)\\\n",
    "    .reset_index()\\\n",
    "    .drop(columns=['customerID'])\n",
    "\n",
    "train_prompt_template = \"\"\"\\\n",
    "Below is an instruction that describes a task. Write a response \\\n",
    "that appropriately completes the request.\n",
    "\n",
    "### Instruction:\n",
    "{instruction}\n",
    "\n",
    "### Response:\n",
    "{response}\\\n",
    "\"\"\"\n",
    "\n",
    "train_prompts = []\n",
    "for i in range(len(df_train_prompt)):\n",
    "    prompt = train_prompt_template.format(\n",
    "        instruction=df_train_prompt.loc[i, 'instruction'],\n",
    "        response=df_train_prompt.loc[i, 'response']\n",
    "    )\n",
    "    train_prompts.append(prompt)\n",
    "\n",
    "with jsonlines.open('train_prompt.jsonl', 'w') as writer:\n",
    "    writer.write_all(train_prompts)"
   ]
  },
  {
   "cell_type": "code",
   "execution_count": 4,
   "metadata": {},
   "outputs": [
    {
     "data": {
      "text/plain": [
       "\"Below is an instruction that describes a task. Write a response that appropriately completes the request.\\n\\n### Instruction:\\nGiven the dataset delimited by the triple backticks, forecast number of days client 2621-XCLEH will take for the payment of an invoice dated 2013-07-16 with an amount $78.08 to be settled. Return the response in JSON format, containing four keys: 'customerID', 'InvoiceDate', 'InvoiceAmount' and 'DaysToSettle'. Return only the forecast, not the Python code.\\n\\n```\\ncustomerID InvoiceDate InvoiceAmount DaysToSettle\\n2621-XCLEH  2012-01-13        $80.99      61 days\\n2621-XCLEH  2012-02-21        $79.51      46 days\\n2621-XCLEH  2012-02-22        $69.80      43 days\\n2621-XCLEH  2012-03-02        $67.51      57 days\\n2621-XCLEH  2012-03-23        $89.05      52 days\\n2621-XCLEH  2012-04-16        $74.06      44 days\\n2621-XCLEH  2012-06-27        $69.42      60 days\\n2621-XCLEH  2012-11-18        $86.39      75 days\\n2621-XCLEH  2013-03-01        $58.96      55 days\\n2621-XCLEH  2013-03-31        $70.93      55 days\\n2621-XCLEH  2013-04-27        $65.76      37 days\\n2621-XCLEH  2013-06-18        $37.49      29 days\\n2621-XCLEH  2013-06-24        $90.62      35 days\\n```\\n\\n### Response:\\n{'customerID': '2621-XCLEH', 'InvoiceDate': '2013-07-16', 'InvoiceAmount': '$78.08', 'DaysToSettle': '48 days'}\""
      ]
     },
     "execution_count": 4,
     "metadata": {},
     "output_type": "execute_result"
    }
   ],
   "source": [
    "train_prompts[17]"
   ]
  },
  {
   "cell_type": "code",
   "execution_count": 5,
   "metadata": {},
   "outputs": [],
   "source": [
    "import pandas as pd\n",
    "import jsonlines\n",
    "\n",
    "def create_test_prompt(x):\n",
    "    d = {}\n",
    "    d['instruction'] = f\"\"\"\\\n",
    "Given the dataset delimited by the triple backticks, forecast number of days client \\\n",
    "{x['customerID'][-1:].values[0]} will take for the payment of an invoice dated \\\n",
    "{x['InvoiceDate'][-1:].values[0]} with an amount {x['InvoiceAmount'][-1:].values[0]} \\\n",
    "to be settled. Return the response in JSON format, containing four keys: \\\n",
    "'customerID', 'InvoiceDate', 'InvoiceAmount' and 'DaysToSettle'. \\\n",
    "Return only the forecast, not the Python code.\n",
    "\n",
    "```\n",
    "{x[:-1].to_string(index=False)}\n",
    "```\\\n",
    "\"\"\"\n",
    "    \n",
    "    return pd.Series(d, index=['instruction'])\n",
    "\n",
    "df_test_prompt = df_invoice.copy()\\\n",
    "    .sort_values(by=['customerID', 'InvoiceDate'])\\\n",
    "    .groupby('customerID')\\\n",
    "    .apply(create_test_prompt)\\\n",
    "    .reset_index()\\\n",
    "    .drop(columns=['customerID'])\n",
    "\n",
    "test_prompt_template = \"\"\"\\\n",
    "Below is an instruction that describes a task. Write a response \\\n",
    "that appropriately completes the request.\n",
    "\n",
    "### Instruction:\n",
    "{instruction}\n",
    "\n",
    "### Response:\\\n",
    "\"\"\"\n",
    "\n",
    "test_prompts = []\n",
    "for i in range(len(df_test_prompt)):\n",
    "    prompt = test_prompt_template.format(\n",
    "        instruction=df_test_prompt.loc[i, 'instruction']\n",
    "    )\n",
    "    test_prompts.append(prompt)\n",
    "\n",
    "with jsonlines.open('test_prompt.jsonl', 'w') as writer:\n",
    "    writer.write_all(test_prompts)"
   ]
  },
  {
   "cell_type": "code",
   "execution_count": 6,
   "metadata": {},
   "outputs": [
    {
     "data": {
      "text/plain": [
       "\"Below is an instruction that describes a task. Write a response that appropriately completes the request.\\n\\n### Instruction:\\nGiven the dataset delimited by the triple backticks, forecast number of days client 2621-XCLEH will take for the payment of an invoice dated 2013-07-28 with an amount $92.17 to be settled. Return the response in JSON format, containing four keys: 'customerID', 'InvoiceDate', 'InvoiceAmount' and 'DaysToSettle'. Return only the forecast, not the Python code.\\n\\n```\\ncustomerID InvoiceDate InvoiceAmount DaysToSettle\\n2621-XCLEH  2012-01-13        $80.99      61 days\\n2621-XCLEH  2012-02-21        $79.51      46 days\\n2621-XCLEH  2012-02-22        $69.80      43 days\\n2621-XCLEH  2012-03-02        $67.51      57 days\\n2621-XCLEH  2012-03-23        $89.05      52 days\\n2621-XCLEH  2012-04-16        $74.06      44 days\\n2621-XCLEH  2012-06-27        $69.42      60 days\\n2621-XCLEH  2012-11-18        $86.39      75 days\\n2621-XCLEH  2013-03-01        $58.96      55 days\\n2621-XCLEH  2013-03-31        $70.93      55 days\\n2621-XCLEH  2013-04-27        $65.76      37 days\\n2621-XCLEH  2013-06-18        $37.49      29 days\\n2621-XCLEH  2013-06-24        $90.62      35 days\\n2621-XCLEH  2013-07-16        $78.08      48 days\\n```\\n\\n### Response:\""
      ]
     },
     "execution_count": 6,
     "metadata": {},
     "output_type": "execute_result"
    }
   ],
   "source": [
    "test_prompts[17]"
   ]
  },
  {
   "cell_type": "code",
   "execution_count": null,
   "metadata": {
    "height": 98
   },
   "outputs": [],
   "source": [
    "from llama import BasicModelRunner\n",
    "\n",
    "chat_llama2 = BasicModelRunner(\n",
    "    \"meta-llama/Llama-2-7b-chat-hf\")\n",
    "print(chat_llama2(prompt))"
   ]
  },
  {
   "cell_type": "code",
   "execution_count": null,
   "metadata": {},
   "outputs": [],
   "source": [
    "from llama import BasicModelRunner\n",
    "\n",
    "pretrained_model = \"EleutherAI/pythia-70m\"\n",
    "\n",
    "non_finetuned = BasicModelRunner(pretrained_model)\n",
    "print(non_finetuned(prompt))"
   ]
  },
  {
   "cell_type": "code",
   "execution_count": null,
   "metadata": {},
   "outputs": [],
   "source": [
    "from transformers import AutoTokenizer\n",
    "\n",
    "tokenizer = AutoTokenizer\\\n",
    "    .from_pretrained(pretrained_model)\n",
    "\n",
    "encoded_text = tokenizer(prompt)[\"input_ids\"]\n",
    "print(\"Encoded texts into tokens:\\n\", encoded_text)\n",
    "\n",
    "decoded_text = tokenizer.decode(encoded_text)\n",
    "print(\"Decoded tokens back into texts:\\n\", decoded_text)"
   ]
  }
 ],
 "metadata": {
  "colab": {
   "gpuType": "T4",
   "provenance": []
  },
  "kernelspec": {
   "display_name": "Python 3 (ipykernel)",
   "language": "python",
   "name": "python3"
  },
  "language_info": {
   "codemirror_mode": {
    "name": "ipython",
    "version": 3
   },
   "file_extension": ".py",
   "mimetype": "text/x-python",
   "name": "python",
   "nbconvert_exporter": "python",
   "pygments_lexer": "ipython3",
   "version": "3.11.0rc1"
  }
 },
 "nbformat": 4,
 "nbformat_minor": 4
}
