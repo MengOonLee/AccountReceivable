{
 "cells": [
  {
   "cell_type": "code",
   "execution_count": 1,
   "metadata": {},
   "outputs": [],
   "source": [
    "%%bash\n",
    "pip install --no-cache-dir -qU pip\n",
    "pip install --no-cache-dir -qU \\\n",
    "    jsonlines datasets transformers"
   ]
  },
  {
   "cell_type": "code",
   "execution_count": 2,
   "metadata": {
    "height": 302,
    "tags": []
   },
   "outputs": [
    {
     "data": {
      "text/html": [
       "<div>\n",
       "<style scoped>\n",
       "    .dataframe tbody tr th:only-of-type {\n",
       "        vertical-align: middle;\n",
       "    }\n",
       "\n",
       "    .dataframe tbody tr th {\n",
       "        vertical-align: top;\n",
       "    }\n",
       "\n",
       "    .dataframe thead th {\n",
       "        text-align: right;\n",
       "    }\n",
       "</style>\n",
       "<table border=\"1\" class=\"dataframe\">\n",
       "  <thead>\n",
       "    <tr style=\"text-align: right;\">\n",
       "      <th></th>\n",
       "      <th>customerID</th>\n",
       "      <th>InvoiceDate</th>\n",
       "      <th>InvoiceAmount</th>\n",
       "      <th>DaysToSettle</th>\n",
       "    </tr>\n",
       "  </thead>\n",
       "  <tbody>\n",
       "    <tr>\n",
       "      <th>401</th>\n",
       "      <td>2621-XCLEH</td>\n",
       "      <td>2012-01-13</td>\n",
       "      <td>$80.99</td>\n",
       "      <td>61 days</td>\n",
       "    </tr>\n",
       "    <tr>\n",
       "      <th>402</th>\n",
       "      <td>2621-XCLEH</td>\n",
       "      <td>2012-02-21</td>\n",
       "      <td>$79.51</td>\n",
       "      <td>46 days</td>\n",
       "    </tr>\n",
       "    <tr>\n",
       "      <th>403</th>\n",
       "      <td>2621-XCLEH</td>\n",
       "      <td>2012-02-22</td>\n",
       "      <td>$69.80</td>\n",
       "      <td>43 days</td>\n",
       "    </tr>\n",
       "    <tr>\n",
       "      <th>404</th>\n",
       "      <td>2621-XCLEH</td>\n",
       "      <td>2012-03-02</td>\n",
       "      <td>$67.51</td>\n",
       "      <td>57 days</td>\n",
       "    </tr>\n",
       "    <tr>\n",
       "      <th>405</th>\n",
       "      <td>2621-XCLEH</td>\n",
       "      <td>2012-03-23</td>\n",
       "      <td>$89.05</td>\n",
       "      <td>52 days</td>\n",
       "    </tr>\n",
       "    <tr>\n",
       "      <th>406</th>\n",
       "      <td>2621-XCLEH</td>\n",
       "      <td>2012-04-16</td>\n",
       "      <td>$74.06</td>\n",
       "      <td>44 days</td>\n",
       "    </tr>\n",
       "    <tr>\n",
       "      <th>407</th>\n",
       "      <td>2621-XCLEH</td>\n",
       "      <td>2012-06-27</td>\n",
       "      <td>$69.42</td>\n",
       "      <td>60 days</td>\n",
       "    </tr>\n",
       "    <tr>\n",
       "      <th>408</th>\n",
       "      <td>2621-XCLEH</td>\n",
       "      <td>2012-11-18</td>\n",
       "      <td>$86.39</td>\n",
       "      <td>75 days</td>\n",
       "    </tr>\n",
       "    <tr>\n",
       "      <th>409</th>\n",
       "      <td>2621-XCLEH</td>\n",
       "      <td>2013-03-01</td>\n",
       "      <td>$58.96</td>\n",
       "      <td>55 days</td>\n",
       "    </tr>\n",
       "    <tr>\n",
       "      <th>410</th>\n",
       "      <td>2621-XCLEH</td>\n",
       "      <td>2013-03-31</td>\n",
       "      <td>$70.93</td>\n",
       "      <td>55 days</td>\n",
       "    </tr>\n",
       "    <tr>\n",
       "      <th>411</th>\n",
       "      <td>2621-XCLEH</td>\n",
       "      <td>2013-04-27</td>\n",
       "      <td>$65.76</td>\n",
       "      <td>37 days</td>\n",
       "    </tr>\n",
       "    <tr>\n",
       "      <th>412</th>\n",
       "      <td>2621-XCLEH</td>\n",
       "      <td>2013-06-18</td>\n",
       "      <td>$37.49</td>\n",
       "      <td>29 days</td>\n",
       "    </tr>\n",
       "    <tr>\n",
       "      <th>413</th>\n",
       "      <td>2621-XCLEH</td>\n",
       "      <td>2013-06-24</td>\n",
       "      <td>$90.62</td>\n",
       "      <td>35 days</td>\n",
       "    </tr>\n",
       "    <tr>\n",
       "      <th>414</th>\n",
       "      <td>2621-XCLEH</td>\n",
       "      <td>2013-07-16</td>\n",
       "      <td>$78.08</td>\n",
       "      <td>48 days</td>\n",
       "    </tr>\n",
       "    <tr>\n",
       "      <th>415</th>\n",
       "      <td>2621-XCLEH</td>\n",
       "      <td>2013-07-28</td>\n",
       "      <td>$92.17</td>\n",
       "      <td>46 days</td>\n",
       "    </tr>\n",
       "  </tbody>\n",
       "</table>\n",
       "</div>"
      ],
      "text/plain": [
       "     customerID InvoiceDate InvoiceAmount DaysToSettle\n",
       "401  2621-XCLEH  2012-01-13        $80.99      61 days\n",
       "402  2621-XCLEH  2012-02-21        $79.51      46 days\n",
       "403  2621-XCLEH  2012-02-22        $69.80      43 days\n",
       "404  2621-XCLEH  2012-03-02        $67.51      57 days\n",
       "405  2621-XCLEH  2012-03-23        $89.05      52 days\n",
       "406  2621-XCLEH  2012-04-16        $74.06      44 days\n",
       "407  2621-XCLEH  2012-06-27        $69.42      60 days\n",
       "408  2621-XCLEH  2012-11-18        $86.39      75 days\n",
       "409  2621-XCLEH  2013-03-01        $58.96      55 days\n",
       "410  2621-XCLEH  2013-03-31        $70.93      55 days\n",
       "411  2621-XCLEH  2013-04-27        $65.76      37 days\n",
       "412  2621-XCLEH  2013-06-18        $37.49      29 days\n",
       "413  2621-XCLEH  2013-06-24        $90.62      35 days\n",
       "414  2621-XCLEH  2013-07-16        $78.08      48 days\n",
       "415  2621-XCLEH  2013-07-28        $92.17      46 days"
      ]
     },
     "execution_count": 2,
     "metadata": {},
     "output_type": "execute_result"
    }
   ],
   "source": [
    "import pandas as pd\n",
    "\n",
    "df_invoice = pd.read_csv('WA_Fn-UseC_-Accounts-Receivable.csv')\n",
    "df_invoice['InvoiceDate'] = pd.to_datetime(df_invoice['InvoiceDate'], format='%m/%d/%Y')\\\n",
    "    .dt.date\n",
    "df_invoice['InvoiceAmount'] = df_invoice['InvoiceAmount']\\\n",
    "    .apply(lambda x: \"${:,.2f}\".format(x))\n",
    "df_invoice['DaysToSettle'] = df_invoice['DaysToSettle'].apply(lambda x: f\"{x} days\")\n",
    "\n",
    "df_invoice.drop(columns=['countryCode', 'PaperlessDate', 'invoiceNumber', 'DueDate', \n",
    "    'Disputed', 'SettledDate', 'PaperlessBill', 'DaysLate'], inplace=True)\n",
    "df_invoice.sort_values(by=['customerID', 'InvoiceDate'], inplace=True)\n",
    "df_invoice.reset_index(inplace=True, drop=True)\n",
    "\n",
    "df_invoice[df_invoice['customerID']=='2621-XCLEH']"
   ]
  },
  {
   "cell_type": "code",
   "execution_count": 3,
   "metadata": {},
   "outputs": [],
   "source": [
    "prompt_template = \"\"\"\\\n",
    "Below is an instruction that describes a task. \\\n",
    "Write a response that appropriately completes the request.\n",
    "\n",
    "### Instruction:\n",
    "{instruction}\n",
    "\n",
    "### Response:\n",
    "\"\"\""
   ]
  },
  {
   "cell_type": "code",
   "execution_count": 4,
   "metadata": {},
   "outputs": [],
   "source": [
    "import pandas as pd\n",
    "import jsonlines\n",
    "\n",
    "def create_train_prompt(x):\n",
    "    d = {}\n",
    "    d['instruction'] = f\"\"\"\\\n",
    "Given the dataset delimited by the triple backticks, forecast number of days client \\\n",
    "{x['customerID'][-2:-1].values[0]} will take for the payment of an invoice dated \\\n",
    "{x['InvoiceDate'][-2:-1].values[0]} with an amount {x['InvoiceAmount'][-2:-1].values[0]} \\\n",
    "to be settled. Return the response in JSON format, containing four keys: \\\n",
    "'customerID', 'InvoiceDate', 'InvoiceAmount' and 'DaysToSettle'. \\\n",
    "Return only the forecast, not the Python code.\n",
    "\n",
    "```\n",
    "{x[:-2].to_string(index=False)}\n",
    "```\\\n",
    "\"\"\"\n",
    "    d['response'] = f\"\"\"\\\n",
    "{{\n",
    "    \"customerID\": {x['customerID'][-2:-1].values[0]},\n",
    "    \"InvoiceDate\": {x['InvoiceDate'][-2:-1].values[0]},\n",
    "    \"InvoiceAmount\": {x['InvoiceAmount'][-2:-1].values[0]},\n",
    "    \"DaysToSettle\": {x['DaysToSettle'][-2:-1].values[0]}\n",
    "}}\\\n",
    "\"\"\"\n",
    "\n",
    "    return pd.Series(d, index=['instruction', 'response'])\n",
    "\n",
    "df_train_prompt = df_invoice.copy()\\\n",
    "    .sort_values(by=['customerID', 'InvoiceDate'])\\\n",
    "    .groupby('customerID')\\\n",
    "    .apply(create_train_prompt)\\\n",
    "    .reset_index()\\\n",
    "    .drop(columns=['customerID'])\n",
    "\n",
    "train_prompts = []\n",
    "for i in range(len(df_train_prompt)):\n",
    "    prompt = prompt_template.format(\n",
    "        instruction=df_train_prompt.loc[i, 'instruction']\n",
    "    )\n",
    "    train_prompts.append({\n",
    "        \"input\": prompt,\n",
    "        \"output\": df_train_prompt.loc[i, 'response']\n",
    "    })\n",
    "\n",
    "with jsonlines.open('train_prompt.jsonl', 'w') as writer:\n",
    "    writer.write_all(train_prompts)"
   ]
  },
  {
   "cell_type": "code",
   "execution_count": 5,
   "metadata": {},
   "outputs": [],
   "source": [
    "import pandas as pd\n",
    "import jsonlines\n",
    "\n",
    "def create_test_prompt(x):\n",
    "    d = {}\n",
    "    d['instruction'] = f\"\"\"\\\n",
    "Given the dataset delimited by the triple backticks, forecast number of days client \\\n",
    "{x['customerID'][-1:].values[0]} will take for the payment of an invoice dated \\\n",
    "{x['InvoiceDate'][-1:].values[0]} with an amount {x['InvoiceAmount'][-1:].values[0]} \\\n",
    "to be settled. Return the response in JSON format, containing four keys: \\\n",
    "'customerID', 'InvoiceDate', 'InvoiceAmount' and 'DaysToSettle'. \\\n",
    "Return only the forecast, not the Python code.\n",
    "\n",
    "```\n",
    "{x[:-1].to_string(index=False)}\n",
    "```\\\n",
    "\"\"\"\n",
    "    d['response'] = f\"\"\"\\\n",
    "{{\n",
    "    \"customerID\": {x['customerID'][-1:].values[0]},\n",
    "    \"InvoiceDate\": {x['InvoiceDate'][-1:].values[0]},\n",
    "    \"InvoiceAmount\": {x['InvoiceAmount'][-1:].values[0]},\n",
    "    \"DaysToSettle\": {x['DaysToSettle'][-1:].values[0]}\n",
    "}}\\\n",
    "\"\"\"\n",
    "\n",
    "    return pd.Series(d, index=['instruction', 'response'])\n",
    "\n",
    "df_test_prompt = df_invoice.copy()\\\n",
    "    .sort_values(by=['customerID', 'InvoiceDate'])\\\n",
    "    .groupby('customerID')\\\n",
    "    .apply(create_test_prompt)\\\n",
    "    .reset_index()\\\n",
    "    .drop(columns=['customerID'])\n",
    "\n",
    "test_prompts = []\n",
    "for i in range(len(df_test_prompt)):\n",
    "    prompt = prompt_template.format(\n",
    "        instruction=df_test_prompt.loc[i, 'instruction']\n",
    "    )\n",
    "    test_prompts.append({\n",
    "        \"input\": prompt,\n",
    "        \"output\": df_test_prompt.loc[i, 'response']\n",
    "    })\n",
    "\n",
    "with jsonlines.open('test_prompt.jsonl', 'w') as writer:\n",
    "    writer.write_all(test_prompts)"
   ]
  },
  {
   "cell_type": "code",
   "execution_count": 6,
   "metadata": {
    "tags": []
   },
   "outputs": [
    {
     "name": "stdout",
     "output_type": "stream",
     "text": [
      "DatasetDict({\n",
      "    train: Dataset({\n",
      "        features: ['input', 'output'],\n",
      "        num_rows: 100\n",
      "    })\n",
      "    test: Dataset({\n",
      "        features: ['input', 'output'],\n",
      "        num_rows: 100\n",
      "    })\n",
      "})\n"
     ]
    }
   ],
   "source": [
    "import datasets\n",
    "\n",
    "finetune_dataset  = datasets.load_dataset(\"json\", data_files={\n",
    "    \"train\": \"train_prompt.jsonl\",\n",
    "    \"test\": \"test_prompt.jsonl\"\n",
    "})\n",
    "print(finetune_dataset)"
   ]
  },
  {
   "cell_type": "code",
   "execution_count": 7,
   "metadata": {
    "collapsed": true,
    "jupyter": {
     "outputs_hidden": true
    },
    "scrolled": true,
    "tags": []
   },
   "outputs": [
    {
     "data": {
      "text/plain": [
       "{'input': \"Below is an instruction that describes a task. Write a response that appropriately completes the request.\\n\\n### Instruction:\\nGiven the dataset delimited by the triple backticks, forecast number of days client 2621-XCLEH will take for the payment of an invoice dated 2013-07-28 with an amount $92.17 to be settled. Return the response in JSON format, containing four keys: 'customerID', 'InvoiceDate', 'InvoiceAmount' and 'DaysToSettle'. Return only the forecast, not the Python code.\\n\\n```\\ncustomerID InvoiceDate InvoiceAmount DaysToSettle\\n2621-XCLEH  2012-01-13        $80.99      61 days\\n2621-XCLEH  2012-02-21        $79.51      46 days\\n2621-XCLEH  2012-02-22        $69.80      43 days\\n2621-XCLEH  2012-03-02        $67.51      57 days\\n2621-XCLEH  2012-03-23        $89.05      52 days\\n2621-XCLEH  2012-04-16        $74.06      44 days\\n2621-XCLEH  2012-06-27        $69.42      60 days\\n2621-XCLEH  2012-11-18        $86.39      75 days\\n2621-XCLEH  2013-03-01        $58.96      55 days\\n2621-XCLEH  2013-03-31        $70.93      55 days\\n2621-XCLEH  2013-04-27        $65.76      37 days\\n2621-XCLEH  2013-06-18        $37.49      29 days\\n2621-XCLEH  2013-06-24        $90.62      35 days\\n2621-XCLEH  2013-07-16        $78.08      48 days\\n```\\n\\n### Response:\\n\",\n",
       " 'output': '{\\n    \"customerID\": 2621-XCLEH,\\n    \"InvoiceDate\": 2013-07-28,\\n    \"InvoiceAmount\": $92.17,\\n    \"DaysToSettle\": 46 days\\n}'}"
      ]
     },
     "execution_count": 7,
     "metadata": {},
     "output_type": "execute_result"
    }
   ],
   "source": [
    "finetune_dataset['test'][17]"
   ]
  },
  {
   "cell_type": "code",
   "execution_count": 24,
   "metadata": {},
   "outputs": [],
   "source": [
    "import torch\n",
    "import logging\n",
    "logger = logging.getLogger(__name__)\n",
    "\n",
    "device_count = torch.cuda.device_count()\n",
    "if device_count > 0:\n",
    "    logger.debug('Select GPU device')\n",
    "    device = torch.device('cuda')\n",
    "else:\n",
    "    logger.debug('Select CPU device')\n",
    "    device = torch.device('cpu')"
   ]
  },
  {
   "cell_type": "code",
   "execution_count": 25,
   "metadata": {},
   "outputs": [],
   "source": [
    "from transformers import AutoTokenizer, AutoModelForCausalLM\n",
    "\n",
    "pretrained_llm = \"EleutherAI/pythia-70m\"\n",
    "\n",
    "base_model = AutoModelForCausalLM.from_pretrained(pretrained_llm)\n",
    "base_model.to(device)\n",
    "tokenizer = AutoTokenizer.from_pretrained(pretrained_llm)"
   ]
  },
  {
   "cell_type": "code",
   "execution_count": 26,
   "metadata": {},
   "outputs": [
    {
     "data": {
      "text/plain": [
       "GPTNeoXForCausalLM(\n",
       "  (gpt_neox): GPTNeoXModel(\n",
       "    (embed_in): Embedding(50304, 512)\n",
       "    (emb_dropout): Dropout(p=0.0, inplace=False)\n",
       "    (layers): ModuleList(\n",
       "      (0-5): 6 x GPTNeoXLayer(\n",
       "        (input_layernorm): LayerNorm((512,), eps=1e-05, elementwise_affine=True)\n",
       "        (post_attention_layernorm): LayerNorm((512,), eps=1e-05, elementwise_affine=True)\n",
       "        (post_attention_dropout): Dropout(p=0.0, inplace=False)\n",
       "        (post_mlp_dropout): Dropout(p=0.0, inplace=False)\n",
       "        (attention): GPTNeoXAttention(\n",
       "          (rotary_emb): GPTNeoXRotaryEmbedding()\n",
       "          (query_key_value): Linear(in_features=512, out_features=1536, bias=True)\n",
       "          (dense): Linear(in_features=512, out_features=512, bias=True)\n",
       "          (attention_dropout): Dropout(p=0.0, inplace=False)\n",
       "        )\n",
       "        (mlp): GPTNeoXMLP(\n",
       "          (dense_h_to_4h): Linear(in_features=512, out_features=2048, bias=True)\n",
       "          (dense_4h_to_h): Linear(in_features=2048, out_features=512, bias=True)\n",
       "          (act): GELUActivation()\n",
       "        )\n",
       "      )\n",
       "    )\n",
       "    (final_layer_norm): LayerNorm((512,), eps=1e-05, elementwise_affine=True)\n",
       "  )\n",
       "  (embed_out): Linear(in_features=512, out_features=50304, bias=False)\n",
       ")"
      ]
     },
     "execution_count": 26,
     "metadata": {},
     "output_type": "execute_result"
    }
   ],
   "source": [
    "base_model"
   ]
  },
  {
   "cell_type": "code",
   "execution_count": null,
   "metadata": {},
   "outputs": [],
   "source": []
  },
  {
   "cell_type": "code",
   "execution_count": 12,
   "metadata": {
    "collapsed": true,
    "jupyter": {
     "outputs_hidden": true
    },
    "scrolled": true,
    "tags": []
   },
   "outputs": [
    {
     "name": "stdout",
     "output_type": "stream",
     "text": [
      "Encoded texts into tokens:\n",
      " [30003, 310, 271, 9775, 326, 8631, 247, 4836, 15, 19566, 247, 2380, 326, 20420, 29141, 253, 2748, 15, 187, 187, 4118, 41959, 27, 187, 15768, 253, 10895, 38352, 959, 407, 253, 16260, 896, 3028, 661, 13, 16923, 1180, 273, 1897, 5268, 3436, 1797, 14, 57, 28040, 41, 588, 1379, 323, 253, 7830, 273, 271, 45156, 15483, 4072, 14, 2922, 14, 1619, 342, 271, 2408, 370, 4529, 15, 1166, 281, 320, 11371, 15, 16140, 253, 2380, 275, 13922, 5981, 13, 4508, 1740, 10149, 27, 686, 34590, 1838, 1383, 686, 688, 22619, 6958, 1383, 686, 688, 22619, 35277, 8, 285, 686, 41430, 1992, 52, 35189, 5983, 16140, 760, 253, 16923, 13, 417, 253, 13814, 2127, 15, 187, 187, 11202, 187, 34590, 1838, 49427, 6958, 49427, 35277, 23264, 1992, 52, 35189, 187, 1731, 1797, 14, 57, 28040, 41, 50276, 6755, 14, 520, 14, 1012, 50270, 5, 1438, 15, 1525, 50272, 3832, 1897, 187, 1731, 1797, 14, 57, 28040, 41, 50276, 6755, 14, 2640, 14, 1797, 50270, 5, 2787, 15, 3712, 50272, 2950, 1897, 187, 1731, 1797, 14, 57, 28040, 41, 50276, 6755, 14, 2640, 14, 1423, 50270, 5, 2090, 15, 1438, 50272, 3079, 1897, 187, 1731, 1797, 14, 57, 28040, 41, 50276, 6755, 14, 2941, 14, 2640, 50270, 5, 2251, 15, 3712, 50272, 3011, 1897, 187, 1731, 1797, 14, 57, 28040, 41, 50276, 6755, 14, 2941, 14, 1508, 50270, 5, 2511, 15, 1762, 50272, 3583, 1897, 187, 1731, 1797, 14, 57, 28040, 41, 50276, 6755, 14, 2125, 14, 1036, 50270, 5, 3566, 15, 3071, 50272, 2031, 1897, 187, 1731, 1797, 14, 57, 28040, 41, 50276, 6755, 14, 3071, 14, 1630, 50270, 5, 2090, 15, 2945, 50272, 1549, 1897, 187, 1731, 1797, 14, 57, 28040, 41, 50276, 6755, 14, 883, 14, 1093, 50270, 5, 2691, 15, 1867, 50272, 1976, 1897, 187, 1731, 1797, 14, 57, 28040, 41, 50276, 6622, 14, 2941, 14, 520, 50270, 5, 3680, 15, 4196, 50272, 2417, 1897, 187, 1731, 1797, 14, 57, 28040, 41, 50276, 6622, 14, 2941, 14, 2405, 50270, 5, 1967, 15, 4590, 50272, 2417, 1897, 187, 1731, 1797, 14, 57, 28040, 41, 50276, 6622, 14, 2125, 14, 1630, 50270, 5, 2082, 15, 3121, 50272, 1787, 1897, 187, 1731, 1797, 14, 57, 28040, 41, 50276, 6622, 14, 3071, 14, 1093, 50270, 5, 1787, 15, 2537, 50272, 1717, 1897, 187, 1731, 1797, 14, 57, 28040, 41, 50276, 6622, 14, 3071, 14, 1348, 50270, 5, 2270, 15, 3763, 50272, 1671, 1897, 187, 1731, 1797, 14, 57, 28040, 41, 50276, 6622, 14, 2922, 14, 1036, 50270, 5, 3141, 15, 2904, 50272, 2385, 1897, 187, 11202, 187, 187, 4118, 19371, 27, 187, 92, 187, 50274, 3, 34590, 1838, 1381, 3436, 1797, 14, 57, 28040, 41, 13, 187, 50274, 3, 688, 22619, 6958, 1381, 4072, 14, 2922, 14, 1619, 13, 187, 50274, 3, 688, 22619, 35277, 1381, 370, 4529, 15, 1166, 13, 187, 50274, 3, 41430, 1992, 52, 35189, 1381, 7904, 1897, 187, 94]\n",
      "Decoded tokens back into texts:\n",
      " Below is an instruction that describes a task. Write a response that appropriately completes the request.\n",
      "\n",
      "### Instruction:\n",
      "Given the dataset delimited by the triple backticks, forecast number of days client 2621-XCLEH will take for the payment of an invoice dated 2013-07-28 with an amount $92.17 to be settled. Return the response in JSON format, containing four keys: 'customerID', 'InvoiceDate', 'InvoiceAmount' and 'DaysToSettle'. Return only the forecast, not the Python code.\n",
      "\n",
      "```\n",
      "customerID InvoiceDate InvoiceAmount DaysToSettle\n",
      "2621-XCLEH  2012-01-13        $80.99      61 days\n",
      "2621-XCLEH  2012-02-21        $79.51      46 days\n",
      "2621-XCLEH  2012-02-22        $69.80      43 days\n",
      "2621-XCLEH  2012-03-02        $67.51      57 days\n",
      "2621-XCLEH  2012-03-23        $89.05      52 days\n",
      "2621-XCLEH  2012-04-16        $74.06      44 days\n",
      "2621-XCLEH  2012-06-27        $69.42      60 days\n",
      "2621-XCLEH  2012-11-18        $86.39      75 days\n",
      "2621-XCLEH  2013-03-01        $58.96      55 days\n",
      "2621-XCLEH  2013-03-31        $70.93      55 days\n",
      "2621-XCLEH  2013-04-27        $65.76      37 days\n",
      "2621-XCLEH  2013-06-18        $37.49      29 days\n",
      "2621-XCLEH  2013-06-24        $90.62      35 days\n",
      "2621-XCLEH  2013-07-16        $78.08      48 days\n",
      "```\n",
      "\n",
      "### Response:\n",
      "{\n",
      "    \"customerID\": 2621-XCLEH,\n",
      "    \"InvoiceDate\": 2013-07-28,\n",
      "    \"InvoiceAmount\": $92.17,\n",
      "    \"DaysToSettle\": 46 days\n",
      "}\n"
     ]
    }
   ],
   "source": [
    "text = finetune_dataset['test'][17]['input'] \\\n",
    "    + finetune_dataset['test'][17]['output']\n",
    "\n",
    "encoded_text = tokenizer(text)['input_ids']\n",
    "print(\"Encoded texts into tokens:\\n\", encoded_text)\n",
    "\n",
    "decoded_text = tokenizer.decode(encoded_text)\n",
    "print(\"Decoded tokens back into texts:\\n\", decoded_text)"
   ]
  },
  {
   "cell_type": "code",
   "execution_count": 13,
   "metadata": {
    "tags": []
   },
   "outputs": [
    {
     "name": "stdout",
     "output_type": "stream",
     "text": [
      "Max input tokens: 885\n",
      "Max output tokens: 53\n"
     ]
    }
   ],
   "source": [
    "import numpy as np\n",
    "\n",
    "test_dataset = finetune_dataset['test']\n",
    "input_lengths, output_lengths = [], []\n",
    "for i in range(len(test_dataset)):\n",
    "    tokenized_input = tokenizer(test_dataset[i]['input'])\n",
    "    input_lengths.append(len(tokenized_input['input_ids']))\n",
    "    \n",
    "    tokenized_output = tokenizer(test_dataset[i]['output'])\n",
    "    output_lengths.append(len(tokenized_output['input_ids']))\n",
    "\n",
    "print(\"Max input tokens:\", np.max(input_lengths))\n",
    "print(\"Max output tokens:\", np.max(output_lengths))"
   ]
  },
  {
   "cell_type": "code",
   "execution_count": 17,
   "metadata": {},
   "outputs": [
    {
     "name": "stdout",
     "output_type": "stream",
     "text": [
      "DatasetDict({\n",
      "    train: Dataset({\n",
      "        features: ['input', 'output', 'input_ids', 'attention_mask'],\n",
      "        num_rows: 100\n",
      "    })\n",
      "    test: Dataset({\n",
      "        features: ['input', 'output', 'input_ids', 'attention_mask'],\n",
      "        num_rows: 100\n",
      "    })\n",
      "})\n"
     ]
    }
   ],
   "source": [
    "def tokenize_text(row):\n",
    "    text = row['input'][0] + row['output'][0]\n",
    "    tokenizer.pad_token = tokenizer.eos_token\n",
    "    tokenized_inputs = tokenizer(text, return_tensors='np', padding=True)\n",
    "    max_length = min(2048, tokenized_inputs['input_ids'].shape[1])\n",
    "    tokenizer.truncation_side = 'right'\n",
    "    tokenized_inputs = tokenizer(text, return_tensors='np', truncation=True,\n",
    "        max_length=max_length)\n",
    "\n",
    "    return tokenized_inputs\n",
    "\n",
    "tokenized_dataset = finetune_dataset.map(\n",
    "    tokenize_text, batched=True, batch_size=1, drop_last_batch=True\n",
    ")\n",
    "\n",
    "print(tokenized_dataset)"
   ]
  },
  {
   "cell_type": "code",
   "execution_count": 19,
   "metadata": {},
   "outputs": [],
   "source": [
    "def inference(text, model, tokenizer,\n",
    "        max_input_tokens=1000, max_output_tokens=1000):\n",
    "    # Tokenize\n",
    "    input_ids = tokenizer.encode(text, return_tensors='pt',\n",
    "        truncation=True, max_length=max_input_tokens)\n",
    "    # Generate\n",
    "    device = model.device\n",
    "    generated_tokens_with_prompt = model.generate(\n",
    "        input_ids=input_ids.to(device),\n",
    "        max_length=max_output_tokens\n",
    "    )\n",
    "    # Decode\n",
    "    generated_text_with_prompt = tokenizer.batch_decode(\n",
    "        generated_tokens_with_prompt, skip_special_tokens=True)\n",
    "    # Strip the prompt\n",
    "    generated_text_answer = generated_text_with_prompt[0][len(text):]\n",
    "    \n",
    "    return generated_text_answer"
   ]
  },
  {
   "cell_type": "code",
   "execution_count": 22,
   "metadata": {
    "scrolled": true,
    "tags": []
   },
   "outputs": [
    {
     "name": "stderr",
     "output_type": "stream",
     "text": [
      "The attention mask and the pad token id were not set. As a consequence, you may observe unexpected behavior. Please pass your input's `attention_mask` to obtain reliable results.\n",
      "Setting `pad_token_id` to `eos_token_id`:0 for open-end generation.\n"
     ]
    },
    {
     "name": "stdout",
     "output_type": "stream",
     "text": [
      "Below is an instruction that describes a task. Write a response that appropriately completes the request.\n",
      "\n",
      "### Instruction:\n",
      "Given the dataset delimited by the triple backticks, forecast number of days client 2621-XCLEH will take for the payment of an invoice dated 2013-07-28 with an amount $92.17 to be settled. Return the response in JSON format, containing four keys: 'customerID', 'InvoiceDate', 'InvoiceAmount' and 'DaysToSettle'. Return only the forecast, not the Python code.\n",
      "\n",
      "```\n",
      "customerID InvoiceDate InvoiceAmount DaysToSettle\n",
      "2621-XCLEH  2012-01-13        $80.99      61 days\n",
      "2621-XCLEH  2012-02-21        $79.51      46 days\n",
      "2621-XCLEH  2012-02-22        $69.80      43 days\n",
      "2621-XCLEH  2012-03-02        $67.51      57 days\n",
      "2621-XCLEH  2012-03-23        $89.05      52 days\n",
      "2621-XCLEH  2012-04-16        $74.06      44 days\n",
      "2621-XCLEH  2012-06-27        $69.42      60 days\n",
      "2621-XCLEH  2012-11-18        $86.39      75 days\n",
      "2621-XCLEH  2013-03-01        $58.96      55 days\n",
      "2621-XCLEH  2013-03-31        $70.93      55 days\n",
      "2621-XCLEH  2013-04-27        $65.76      37 days\n",
      "2621-XCLEH  2013-06-18        $37.49      29 days\n",
      "2621-XCLEH  2013-06-24        $90.62      35 days\n",
      "2621-XCLEH  2013-07-16        $78.08      48 days\n",
      "```\n",
      "\n",
      "### Response:\n",
      "\n",
      "Given the dataset delimited by the triple backticks, forecast number of days client 2621-XCLEH will take for the payment of an invoice dated 2013-07-28 with an amount $92.17 to be settled. Return the response in JSON format, containing four keys: 'customerID', 'InvoiceDate', 'InvoiceAmount', 'DaysToSettle', 'DaysToSettle', 'DaysToSettle', 'DaysToSettle', 'DaysToSettle', 'DaysToSettle', 'DaysToSettle', 'DaysToSettle', 'DaysToSettle', 'DaysToSettle', 'DaysToSettle', 'DaysToSettle', 'DaysToSettle', 'DaysToSettle', 'DaysToSettle', 'DaysToSettle', 'DaysToSettle', 'DaysToSettle', 'DaysToSettle', 'DaysToSettle', 'DaysToSettle', 'DaysToSettle', 'DaysToSettle', 'DaysToSettle', 'DaysToSettle', 'DaysToSettle', 'DaysToSettle', 'DaysToSettle', 'DaysToSettle', 'DaysToSettle', 'DaysToSettle', 'DaysToSettle', 'DaysToSettle', 'DaysToSettle', 'DaysToSettle', 'DaysToSettle', 'DaysToSettle', 'DaysToSettle', 'DaysToSettle', 'DaysToSettle', 'DaysToSettle', 'DaysToSettle', 'DaysToSettle', 'DaysToSettle', 'DaysToSettle', 'DaysToSettle', 'DaysToSettle', 'DaysToSettle', 'DaysToSettle', 'DaysToSettle', 'DaysToSettle', 'DaysToSettle', 'DaysToSettle', 'DaysToSettle', 'DaysToSettle', 'DaysToSettle', 'DaysToSettle', 'DaysToSettle', 'DaysToSettle', 'DaysToSettle', 'DaysToSettle', 'DaysToSettle', 'DaysToSettle', 'DaysToSettle', 'DaysToSettle', 'DaysToSettle', 'DaysToSettle', 'DaysToSettle', 'DaysToSettle', 'DaysToSettle', 'DaysToSettle', 'DaysToSettle', 'DaysToSettle', 'DaysToSettle', 'DaysToSettle', 'DaysToSettle', 'DaysToSettle', 'DaysToSettle', 'DaysToSettle', 'DaysToSettle', 'DaysToSettle', 'DaysToSettle', 'DaysToSettle\n"
     ]
    }
   ],
   "source": [
    "test_sample = tokenized_dataset['test'][17]['input']\n",
    "print(test_sample)\n",
    "print(inference(test_sample, base_model, tokenizer))"
   ]
  },
  {
   "cell_type": "code",
   "execution_count": null,
   "metadata": {},
   "outputs": [],
   "source": []
  }
 ],
 "metadata": {
  "colab": {
   "gpuType": "T4",
   "provenance": []
  },
  "kernelspec": {
   "display_name": "Python 3 (ipykernel)",
   "language": "python",
   "name": "python3"
  },
  "language_info": {
   "codemirror_mode": {
    "name": "ipython",
    "version": 3
   },
   "file_extension": ".py",
   "mimetype": "text/x-python",
   "name": "python",
   "nbconvert_exporter": "python",
   "pygments_lexer": "ipython3",
   "version": "3.11.0rc1"
  }
 },
 "nbformat": 4,
 "nbformat_minor": 4
}
