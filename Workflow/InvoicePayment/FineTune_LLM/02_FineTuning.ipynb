{
 "cells": [
  {
   "cell_type": "code",
   "execution_count": 2,
   "id": "e36a9aa7",
   "metadata": {
    "height": 98
   },
   "outputs": [
    {
     "name": "stdout",
     "output_type": "stream",
     "text": [
      "\n",
      "\n",
      "{\n",
      "\"customerID\": \"2621-XCLEH\",\n",
      "\"InvoiceDate\": \"2013-07-28\",\n",
      "\"InvoiceAmount\": \"$92.17\",\n",
      "\"DaysToSettle\": 30\n",
      "}\n",
      "\n",
      "Note: The response is in JSON format, which is a lightweight data interchange format that is easy for humans to read and write, and for machines to parse and generate.\n"
     ]
    }
   ],
   "source": [
    "from llama import BasicModelRunner\n",
    "\n",
    "chat_llama2 = BasicModelRunner(\n",
    "    \"meta-llama/Llama-2-7b-chat-hf\")\n",
    "print(chat_llama2(prompt))"
   ]
  },
  {
   "cell_type": "code",
   "execution_count": 3,
   "id": "813551e9",
   "metadata": {
    "height": 115
   },
   "outputs": [
    {
     "name": "stdout",
     "output_type": "stream",
     "text": [
      "\n",
      "Given the dataset delimited by the triple backticks, forecast number of days client 2621-XCLEH will take for the payment of an invoice dated 2013-07-28 with an amount $92.17 to be settled. Return the response in JSON format, containing four keys: 'customerID', 'InvoiceDate', 'InvoiceAmount', 'DaysToSettle', 'DaysToSettle', 'DaysToSettle', 'DaysToSettle', 'DaysToSettle', 'DaysToSettle', 'DaysToSettle', 'DaysToSettle', 'DaysToSettle', 'DaysToSettle', 'DaysToSettle', 'DaysToSettle', 'DaysToSettle', 'DaysToSettle', 'DaysToSettle', 'DaysToSettle', 'DaysToSettle', 'DaysToSettle', 'DaysToSettle', 'DaysToSettle', 'DaysToSettle', 'DaysToSettle', 'DaysToSettle', 'DaysToSettle', 'DaysToSettle', 'DaysToSettle', 'DaysToSettle', 'DaysToSettle', 'DaysToSettle', 'DaysToSettle', 'Days\n"
     ]
    }
   ],
   "source": [
    "from llama import BasicModelRunner\n",
    "\n",
    "pretrained_model = \"EleutherAI/pythia-70m\"\n",
    "\n",
    "non_finetuned = BasicModelRunner(pretrained_model)\n",
    "print(non_finetuned(prompt))"
   ]
  },
  {
   "cell_type": "code",
   "execution_count": 5,
   "id": "b615b3f3",
   "metadata": {
    "height": 183
   },
   "outputs": [
    {
     "name": "stdout",
     "output_type": "stream",
     "text": [
      "Encoded texts into tokens:\n",
      " [30003, 310, 271, 9775, 326, 8631, 247, 4836, 15, 19566, 247, 2380, 326, 20420, 29141, 253, 2748, 15, 187, 187, 4118, 41959, 27, 187, 15768, 253, 10895, 38352, 959, 407, 253, 16260, 896, 3028, 661, 13, 16923, 1180, 273, 1897, 5268, 3436, 1797, 14, 57, 28040, 41, 588, 1379, 323, 253, 7830, 273, 271, 45156, 15483, 4072, 14, 2922, 14, 1619, 342, 271, 2408, 370, 4529, 15, 1166, 281, 320, 11371, 15, 16140, 253, 2380, 275, 13922, 5981, 13, 4508, 1740, 10149, 27, 686, 34590, 1838, 1383, 686, 688, 22619, 6958, 1383, 686, 688, 22619, 35277, 8, 285, 686, 41430, 1992, 52, 35189, 5983, 16140, 760, 253, 16923, 13, 417, 253, 13814, 2127, 15, 187, 187, 11202, 187, 34590, 1838, 49427, 6958, 49427, 35277, 23264, 1992, 52, 35189, 187, 1731, 1797, 14, 57, 28040, 41, 50276, 6755, 14, 520, 14, 1012, 50270, 5, 1438, 15, 1525, 50272, 3832, 1897, 187, 1731, 1797, 14, 57, 28040, 41, 50276, 6755, 14, 2640, 14, 1797, 50270, 5, 2787, 15, 3712, 50272, 2950, 1897, 187, 1731, 1797, 14, 57, 28040, 41, 50276, 6755, 14, 2640, 14, 1423, 50270, 5, 2090, 15, 1438, 50272, 3079, 1897, 187, 1731, 1797, 14, 57, 28040, 41, 50276, 6755, 14, 2941, 14, 2640, 50270, 5, 2251, 15, 3712, 50272, 3011, 1897, 187, 1731, 1797, 14, 57, 28040, 41, 50276, 6755, 14, 2941, 14, 1508, 50270, 5, 2511, 15, 1762, 50272, 3583, 1897, 187, 1731, 1797, 14, 57, 28040, 41, 50276, 6755, 14, 2125, 14, 1036, 50270, 5, 3566, 15, 3071, 50272, 2031, 1897, 187, 1731, 1797, 14, 57, 28040, 41, 50276, 6755, 14, 3071, 14, 1630, 50270, 5, 2090, 15, 2945, 50272, 1549, 1897, 187, 1731, 1797, 14, 57, 28040, 41, 50276, 6755, 14, 883, 14, 1093, 50270, 5, 2691, 15, 1867, 50272, 1976, 1897, 187, 1731, 1797, 14, 57, 28040, 41, 50276, 6622, 14, 2941, 14, 520, 50270, 5, 3680, 15, 4196, 50272, 2417, 1897, 187, 1731, 1797, 14, 57, 28040, 41, 50276, 6622, 14, 2941, 14, 2405, 50270, 5, 1967, 15, 4590, 50272, 2417, 1897, 187, 1731, 1797, 14, 57, 28040, 41, 50276, 6622, 14, 2125, 14, 1630, 50270, 5, 2082, 15, 3121, 50272, 1787, 1897, 187, 1731, 1797, 14, 57, 28040, 41, 50276, 6622, 14, 3071, 14, 1093, 50270, 5, 1787, 15, 2537, 50272, 1717, 1897, 187, 1731, 1797, 14, 57, 28040, 41, 50276, 6622, 14, 3071, 14, 1348, 50270, 5, 2270, 15, 3763, 50272, 1671, 1897, 187, 1731, 1797, 14, 57, 28040, 41, 50276, 6622, 14, 2922, 14, 1036, 50270, 5, 3141, 15, 2904, 50272, 2385, 1897, 187, 11202, 187, 187, 4118, 19371, 27]\n",
      "Decoded tokens back into texts:\n",
      " Below is an instruction that describes a task. Write a response that appropriately completes the request.\n",
      "\n",
      "### Instruction:\n",
      "Given the dataset delimited by the triple backticks, forecast number of days client 2621-XCLEH will take for the payment of an invoice dated 2013-07-28 with an amount $92.17 to be settled. Return the response in JSON format, containing four keys: 'customerID', 'InvoiceDate', 'InvoiceAmount' and 'DaysToSettle'. Return only the forecast, not the Python code.\n",
      "\n",
      "```\n",
      "customerID InvoiceDate InvoiceAmount DaysToSettle\n",
      "2621-XCLEH  2012-01-13        $80.99      61 days\n",
      "2621-XCLEH  2012-02-21        $79.51      46 days\n",
      "2621-XCLEH  2012-02-22        $69.80      43 days\n",
      "2621-XCLEH  2012-03-02        $67.51      57 days\n",
      "2621-XCLEH  2012-03-23        $89.05      52 days\n",
      "2621-XCLEH  2012-04-16        $74.06      44 days\n",
      "2621-XCLEH  2012-06-27        $69.42      60 days\n",
      "2621-XCLEH  2012-11-18        $86.39      75 days\n",
      "2621-XCLEH  2013-03-01        $58.96      55 days\n",
      "2621-XCLEH  2013-03-31        $70.93      55 days\n",
      "2621-XCLEH  2013-04-27        $65.76      37 days\n",
      "2621-XCLEH  2013-06-18        $37.49      29 days\n",
      "2621-XCLEH  2013-06-24        $90.62      35 days\n",
      "2621-XCLEH  2013-07-16        $78.08      48 days\n",
      "```\n",
      "\n",
      "### Response:\n"
     ]
    }
   ],
   "source": [
    "from transformers import AutoTokenizer\n",
    "\n",
    "tokenizer = AutoTokenizer\\\n",
    "    .from_pretrained(pretrained_model)\n",
    "\n",
    "encoded_text = tokenizer(prompt)[\"input_ids\"]\n",
    "print(\"Encoded texts into tokens:\\n\", encoded_text)\n",
    "\n",
    "decoded_text = tokenizer.decode(encoded_text)\n",
    "print(\"Decoded tokens back into texts:\\n\", decoded_text)"
   ]
  }
 ],
 "metadata": {
  "kernelspec": {
   "display_name": "Python 3 (ipykernel)",
   "language": "python",
   "name": "python3"
  },
  "language_info": {
   "codemirror_mode": {
    "name": "ipython",
    "version": 3
   },
   "file_extension": ".py",
   "mimetype": "text/x-python",
   "name": "python",
   "nbconvert_exporter": "python",
   "pygments_lexer": "ipython3",
   "version": "3.11.0rc1"
  }
 },
 "nbformat": 4,
 "nbformat_minor": 5
}
